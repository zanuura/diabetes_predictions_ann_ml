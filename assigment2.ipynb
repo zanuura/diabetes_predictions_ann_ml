{
 "cells": [
  {
   "cell_type": "code",
   "execution_count": 73,
   "id": "5bb65246-8a3f-44a0-b571-5e029631796c",
   "metadata": {},
   "outputs": [],
   "source": [
    "import pandas as pd\n",
    "import numpy as np\n",
    "import matplotlib.pyplot as plt\n",
    "from sklearn.model_selection import train_test_split\n",
    "from sklearn.preprocessing import StandardScaler\n",
    "import tensorflow as tf"
   ]
  },
  {
   "cell_type": "code",
   "execution_count": 12,
   "id": "9f3e9a0f-a4cb-4636-8109-1920dd552245",
   "metadata": {},
   "outputs": [],
   "source": [
    "df = pd.read_csv('pima-indians-diabetes.csv', header=None)\n",
    "df.columns =['Pregnancies', 'Glucose', 'BloodPressure', 'SkinThickness', 'Insulin', 'BMI', 'DiabetesPedigreeFunction', 'Age','Outcome']"
   ]
  },
  {
   "cell_type": "code",
   "execution_count": 56,
   "id": "39999b71-8d23-4da8-a613-b111b2dc9378",
   "metadata": {},
   "outputs": [
    {
     "data": {
      "text/plain": [
       "Pregnancies                 0\n",
       "Glucose                     0\n",
       "BloodPressure               0\n",
       "SkinThickness               0\n",
       "Insulin                     0\n",
       "BMI                         0\n",
       "DiabetesPedigreeFunction    0\n",
       "Age                         0\n",
       "Outcome                     0\n",
       "dtype: int64"
      ]
     },
     "execution_count": 56,
     "metadata": {},
     "output_type": "execute_result"
    }
   ],
   "source": [
    "df.isna().sum()"
   ]
  },
  {
   "cell_type": "code",
   "execution_count": 14,
   "id": "755dbe1a-26d4-4680-9d23-f7c83206f512",
   "metadata": {},
   "outputs": [
    {
     "data": {
      "text/html": [
       "<div>\n",
       "<style scoped>\n",
       "    .dataframe tbody tr th:only-of-type {\n",
       "        vertical-align: middle;\n",
       "    }\n",
       "\n",
       "    .dataframe tbody tr th {\n",
       "        vertical-align: top;\n",
       "    }\n",
       "\n",
       "    .dataframe thead th {\n",
       "        text-align: right;\n",
       "    }\n",
       "</style>\n",
       "<table border=\"1\" class=\"dataframe\">\n",
       "  <thead>\n",
       "    <tr style=\"text-align: right;\">\n",
       "      <th></th>\n",
       "      <th>Pregnancies</th>\n",
       "      <th>Glucose</th>\n",
       "      <th>BloodPressure</th>\n",
       "      <th>SkinThickness</th>\n",
       "      <th>Insulin</th>\n",
       "      <th>BMI</th>\n",
       "      <th>DiabetesPedigreeFunction</th>\n",
       "      <th>Age</th>\n",
       "      <th>Outcome</th>\n",
       "    </tr>\n",
       "  </thead>\n",
       "  <tbody>\n",
       "    <tr>\n",
       "      <th>0</th>\n",
       "      <td>6</td>\n",
       "      <td>148</td>\n",
       "      <td>72</td>\n",
       "      <td>35</td>\n",
       "      <td>0</td>\n",
       "      <td>33.6</td>\n",
       "      <td>0.627</td>\n",
       "      <td>50</td>\n",
       "      <td>1</td>\n",
       "    </tr>\n",
       "    <tr>\n",
       "      <th>1</th>\n",
       "      <td>1</td>\n",
       "      <td>85</td>\n",
       "      <td>66</td>\n",
       "      <td>29</td>\n",
       "      <td>0</td>\n",
       "      <td>26.6</td>\n",
       "      <td>0.351</td>\n",
       "      <td>31</td>\n",
       "      <td>0</td>\n",
       "    </tr>\n",
       "    <tr>\n",
       "      <th>2</th>\n",
       "      <td>8</td>\n",
       "      <td>183</td>\n",
       "      <td>64</td>\n",
       "      <td>0</td>\n",
       "      <td>0</td>\n",
       "      <td>23.3</td>\n",
       "      <td>0.672</td>\n",
       "      <td>32</td>\n",
       "      <td>1</td>\n",
       "    </tr>\n",
       "    <tr>\n",
       "      <th>3</th>\n",
       "      <td>1</td>\n",
       "      <td>89</td>\n",
       "      <td>66</td>\n",
       "      <td>23</td>\n",
       "      <td>94</td>\n",
       "      <td>28.1</td>\n",
       "      <td>0.167</td>\n",
       "      <td>21</td>\n",
       "      <td>0</td>\n",
       "    </tr>\n",
       "    <tr>\n",
       "      <th>4</th>\n",
       "      <td>0</td>\n",
       "      <td>137</td>\n",
       "      <td>40</td>\n",
       "      <td>35</td>\n",
       "      <td>168</td>\n",
       "      <td>43.1</td>\n",
       "      <td>2.288</td>\n",
       "      <td>33</td>\n",
       "      <td>1</td>\n",
       "    </tr>\n",
       "  </tbody>\n",
       "</table>\n",
       "</div>"
      ],
      "text/plain": [
       "   Pregnancies  Glucose  BloodPressure  SkinThickness  Insulin   BMI  \\\n",
       "0            6      148             72             35        0  33.6   \n",
       "1            1       85             66             29        0  26.6   \n",
       "2            8      183             64              0        0  23.3   \n",
       "3            1       89             66             23       94  28.1   \n",
       "4            0      137             40             35      168  43.1   \n",
       "\n",
       "   DiabetesPedigreeFunction  Age  Outcome  \n",
       "0                     0.627   50        1  \n",
       "1                     0.351   31        0  \n",
       "2                     0.672   32        1  \n",
       "3                     0.167   21        0  \n",
       "4                     2.288   33        1  "
      ]
     },
     "execution_count": 14,
     "metadata": {},
     "output_type": "execute_result"
    }
   ],
   "source": [
    "df.head()"
   ]
  },
  {
   "cell_type": "code",
   "execution_count": 15,
   "id": "d180d42c-9e36-412f-a87e-2d212328eb77",
   "metadata": {},
   "outputs": [
    {
     "data": {
      "text/plain": [
       "Outcome\n",
       "0    500\n",
       "1    268\n",
       "Name: count, dtype: int64"
      ]
     },
     "execution_count": 15,
     "metadata": {},
     "output_type": "execute_result"
    }
   ],
   "source": [
    "df.Outcome.value_counts()"
   ]
  },
  {
   "cell_type": "code",
   "execution_count": 243,
   "id": "f1788c6b-c817-4ed6-ac5a-05576b379d50",
   "metadata": {},
   "outputs": [],
   "source": [
    "y = df['Outcome']\n",
    "X = df.drop(columns=['Outcome'])"
   ]
  },
  {
   "cell_type": "code",
   "execution_count": 244,
   "id": "a26c930b-7652-417b-9e6e-f2389768dddb",
   "metadata": {},
   "outputs": [],
   "source": [
    "X_train, X_test, y_train, y_test = train_test_split(X, y, test_size=0.30, random_state=42)"
   ]
  },
  {
   "cell_type": "code",
   "execution_count": 248,
   "id": "51b75c1a-7324-4aab-9fc5-4896111a4cfe",
   "metadata": {},
   "outputs": [
    {
     "name": "stdout",
     "output_type": "stream",
     "text": [
      "Epoch 1/100\n",
      "17/17 [==============================] - 1s 21ms/step - loss: 0.5746 - accuracy: 0.7020 - val_loss: 0.5199 - val_accuracy: 0.7359\n",
      "Epoch 2/100\n",
      "17/17 [==============================] - 0s 9ms/step - loss: 0.4815 - accuracy: 0.7821 - val_loss: 0.5049 - val_accuracy: 0.7359\n",
      "Epoch 3/100\n",
      "17/17 [==============================] - 0s 5ms/step - loss: 0.4602 - accuracy: 0.7765 - val_loss: 0.5040 - val_accuracy: 0.7576\n",
      "Epoch 4/100\n",
      "17/17 [==============================] - 0s 6ms/step - loss: 0.4541 - accuracy: 0.7803 - val_loss: 0.5023 - val_accuracy: 0.7489\n",
      "Epoch 5/100\n",
      "17/17 [==============================] - 0s 5ms/step - loss: 0.4521 - accuracy: 0.7840 - val_loss: 0.5141 - val_accuracy: 0.7532\n",
      "Epoch 6/100\n",
      "17/17 [==============================] - 0s 4ms/step - loss: 0.4480 - accuracy: 0.7784 - val_loss: 0.5120 - val_accuracy: 0.7446\n",
      "Epoch 7/100\n",
      "17/17 [==============================] - 0s 4ms/step - loss: 0.4475 - accuracy: 0.7784 - val_loss: 0.5132 - val_accuracy: 0.7403\n",
      "Epoch 8/100\n",
      "17/17 [==============================] - 0s 4ms/step - loss: 0.4469 - accuracy: 0.7803 - val_loss: 0.5101 - val_accuracy: 0.7489\n",
      "Epoch 9/100\n",
      "17/17 [==============================] - 0s 4ms/step - loss: 0.4431 - accuracy: 0.7858 - val_loss: 0.5083 - val_accuracy: 0.7446\n",
      "Epoch 10/100\n",
      "17/17 [==============================] - 0s 5ms/step - loss: 0.4409 - accuracy: 0.7821 - val_loss: 0.5099 - val_accuracy: 0.7403\n",
      "Epoch 11/100\n",
      "17/17 [==============================] - 0s 5ms/step - loss: 0.4412 - accuracy: 0.7784 - val_loss: 0.5116 - val_accuracy: 0.7359\n",
      "Epoch 12/100\n",
      "17/17 [==============================] - 0s 4ms/step - loss: 0.4364 - accuracy: 0.7728 - val_loss: 0.5154 - val_accuracy: 0.7489\n",
      "Epoch 13/100\n",
      "17/17 [==============================] - 0s 4ms/step - loss: 0.4368 - accuracy: 0.7728 - val_loss: 0.5148 - val_accuracy: 0.7446\n",
      "Epoch 14/100\n",
      "17/17 [==============================] - 0s 4ms/step - loss: 0.4357 - accuracy: 0.7840 - val_loss: 0.5110 - val_accuracy: 0.7359\n",
      "Epoch 15/100\n",
      "17/17 [==============================] - 0s 4ms/step - loss: 0.4334 - accuracy: 0.7784 - val_loss: 0.5094 - val_accuracy: 0.7489\n",
      "Epoch 16/100\n",
      "17/17 [==============================] - 0s 4ms/step - loss: 0.4337 - accuracy: 0.7821 - val_loss: 0.5162 - val_accuracy: 0.7532\n",
      "Epoch 17/100\n",
      "17/17 [==============================] - 0s 5ms/step - loss: 0.4335 - accuracy: 0.7840 - val_loss: 0.5032 - val_accuracy: 0.7489\n",
      "Epoch 18/100\n",
      "17/17 [==============================] - 0s 4ms/step - loss: 0.4269 - accuracy: 0.7858 - val_loss: 0.5163 - val_accuracy: 0.7532\n",
      "Epoch 19/100\n",
      "17/17 [==============================] - 0s 4ms/step - loss: 0.4267 - accuracy: 0.7914 - val_loss: 0.5159 - val_accuracy: 0.7403\n",
      "Epoch 20/100\n",
      "17/17 [==============================] - 0s 4ms/step - loss: 0.4255 - accuracy: 0.7840 - val_loss: 0.5139 - val_accuracy: 0.7532\n",
      "Epoch 21/100\n",
      "17/17 [==============================] - 0s 4ms/step - loss: 0.4270 - accuracy: 0.7784 - val_loss: 0.5089 - val_accuracy: 0.7403\n",
      "Epoch 22/100\n",
      "17/17 [==============================] - 0s 4ms/step - loss: 0.4217 - accuracy: 0.7840 - val_loss: 0.5108 - val_accuracy: 0.7446\n",
      "Epoch 23/100\n",
      "17/17 [==============================] - 0s 4ms/step - loss: 0.4259 - accuracy: 0.7784 - val_loss: 0.5101 - val_accuracy: 0.7403\n",
      "Epoch 24/100\n",
      "17/17 [==============================] - 0s 4ms/step - loss: 0.4234 - accuracy: 0.7840 - val_loss: 0.5169 - val_accuracy: 0.7316\n",
      "Epoch 25/100\n",
      "17/17 [==============================] - 0s 5ms/step - loss: 0.4216 - accuracy: 0.7933 - val_loss: 0.5129 - val_accuracy: 0.7532\n",
      "Epoch 26/100\n",
      "17/17 [==============================] - 0s 4ms/step - loss: 0.4185 - accuracy: 0.7952 - val_loss: 0.5143 - val_accuracy: 0.7446\n",
      "Epoch 27/100\n",
      "17/17 [==============================] - 0s 5ms/step - loss: 0.4175 - accuracy: 0.7896 - val_loss: 0.5182 - val_accuracy: 0.7446\n",
      "Epoch 28/100\n",
      "17/17 [==============================] - 0s 4ms/step - loss: 0.4229 - accuracy: 0.7840 - val_loss: 0.5089 - val_accuracy: 0.7662\n",
      "Epoch 29/100\n",
      "17/17 [==============================] - 0s 4ms/step - loss: 0.4174 - accuracy: 0.7952 - val_loss: 0.5247 - val_accuracy: 0.7359\n",
      "Epoch 30/100\n",
      "17/17 [==============================] - 0s 5ms/step - loss: 0.4181 - accuracy: 0.7896 - val_loss: 0.5171 - val_accuracy: 0.7403\n",
      "Epoch 31/100\n",
      "17/17 [==============================] - 0s 5ms/step - loss: 0.4136 - accuracy: 0.7896 - val_loss: 0.5259 - val_accuracy: 0.7532\n",
      "Epoch 32/100\n",
      "17/17 [==============================] - 0s 4ms/step - loss: 0.4149 - accuracy: 0.7989 - val_loss: 0.5175 - val_accuracy: 0.7576\n",
      "Epoch 33/100\n",
      "17/17 [==============================] - 0s 5ms/step - loss: 0.4140 - accuracy: 0.7914 - val_loss: 0.5192 - val_accuracy: 0.7359\n",
      "Epoch 34/100\n",
      "17/17 [==============================] - 0s 4ms/step - loss: 0.4128 - accuracy: 0.7914 - val_loss: 0.5261 - val_accuracy: 0.7532\n",
      "Epoch 35/100\n",
      "17/17 [==============================] - 0s 4ms/step - loss: 0.4129 - accuracy: 0.7914 - val_loss: 0.5224 - val_accuracy: 0.7446\n",
      "Epoch 36/100\n",
      "17/17 [==============================] - 0s 5ms/step - loss: 0.4126 - accuracy: 0.7970 - val_loss: 0.5292 - val_accuracy: 0.7403\n",
      "Epoch 37/100\n",
      "17/17 [==============================] - 0s 5ms/step - loss: 0.4129 - accuracy: 0.7970 - val_loss: 0.5275 - val_accuracy: 0.7489\n",
      "Epoch 38/100\n",
      "17/17 [==============================] - 0s 5ms/step - loss: 0.4089 - accuracy: 0.7952 - val_loss: 0.5205 - val_accuracy: 0.7359\n",
      "Epoch 39/100\n",
      "17/17 [==============================] - 0s 4ms/step - loss: 0.4090 - accuracy: 0.7970 - val_loss: 0.5216 - val_accuracy: 0.7532\n",
      "Epoch 40/100\n",
      "17/17 [==============================] - 0s 5ms/step - loss: 0.4170 - accuracy: 0.7840 - val_loss: 0.5292 - val_accuracy: 0.7403\n",
      "Epoch 41/100\n",
      "17/17 [==============================] - 0s 4ms/step - loss: 0.4081 - accuracy: 0.7970 - val_loss: 0.5279 - val_accuracy: 0.7532\n",
      "Epoch 42/100\n",
      "17/17 [==============================] - 0s 5ms/step - loss: 0.4084 - accuracy: 0.7989 - val_loss: 0.5320 - val_accuracy: 0.7489\n",
      "Epoch 43/100\n",
      "17/17 [==============================] - 0s 4ms/step - loss: 0.4074 - accuracy: 0.7952 - val_loss: 0.5273 - val_accuracy: 0.7576\n",
      "Epoch 44/100\n",
      "17/17 [==============================] - 0s 4ms/step - loss: 0.4072 - accuracy: 0.8063 - val_loss: 0.5333 - val_accuracy: 0.7446\n",
      "Epoch 45/100\n",
      "17/17 [==============================] - 0s 4ms/step - loss: 0.4079 - accuracy: 0.7914 - val_loss: 0.5374 - val_accuracy: 0.7489\n",
      "Epoch 46/100\n",
      "17/17 [==============================] - 0s 4ms/step - loss: 0.4085 - accuracy: 0.8045 - val_loss: 0.5373 - val_accuracy: 0.7403\n",
      "Epoch 47/100\n",
      "17/17 [==============================] - 0s 4ms/step - loss: 0.4044 - accuracy: 0.8026 - val_loss: 0.5337 - val_accuracy: 0.7532\n",
      "Epoch 48/100\n",
      "17/17 [==============================] - 0s 4ms/step - loss: 0.4039 - accuracy: 0.7914 - val_loss: 0.5413 - val_accuracy: 0.7489\n",
      "Epoch 49/100\n",
      "17/17 [==============================] - 0s 5ms/step - loss: 0.4073 - accuracy: 0.7970 - val_loss: 0.5408 - val_accuracy: 0.7446\n",
      "Epoch 50/100\n",
      "17/17 [==============================] - 0s 4ms/step - loss: 0.4032 - accuracy: 0.7989 - val_loss: 0.5372 - val_accuracy: 0.7619\n",
      "Epoch 51/100\n",
      "17/17 [==============================] - 0s 4ms/step - loss: 0.4058 - accuracy: 0.8026 - val_loss: 0.5396 - val_accuracy: 0.7619\n",
      "Epoch 52/100\n",
      "17/17 [==============================] - 0s 4ms/step - loss: 0.4069 - accuracy: 0.8045 - val_loss: 0.5432 - val_accuracy: 0.7576\n",
      "Epoch 53/100\n",
      "17/17 [==============================] - 0s 4ms/step - loss: 0.4040 - accuracy: 0.8007 - val_loss: 0.5403 - val_accuracy: 0.7662\n",
      "Epoch 54/100\n",
      "17/17 [==============================] - 0s 4ms/step - loss: 0.4010 - accuracy: 0.8045 - val_loss: 0.5507 - val_accuracy: 0.7489\n",
      "Epoch 55/100\n",
      "17/17 [==============================] - 0s 4ms/step - loss: 0.4005 - accuracy: 0.8119 - val_loss: 0.5426 - val_accuracy: 0.7662\n",
      "Epoch 56/100\n",
      "17/17 [==============================] - 0s 4ms/step - loss: 0.4034 - accuracy: 0.8026 - val_loss: 0.5428 - val_accuracy: 0.7489\n",
      "Epoch 57/100\n",
      "17/17 [==============================] - 0s 4ms/step - loss: 0.4032 - accuracy: 0.8101 - val_loss: 0.5568 - val_accuracy: 0.7576\n",
      "Epoch 58/100\n",
      "17/17 [==============================] - 0s 4ms/step - loss: 0.4012 - accuracy: 0.8063 - val_loss: 0.5462 - val_accuracy: 0.7576\n",
      "Epoch 59/100\n",
      "17/17 [==============================] - 0s 5ms/step - loss: 0.4018 - accuracy: 0.8138 - val_loss: 0.5464 - val_accuracy: 0.7576\n",
      "Epoch 60/100\n",
      "17/17 [==============================] - 0s 4ms/step - loss: 0.4015 - accuracy: 0.8082 - val_loss: 0.5655 - val_accuracy: 0.7359\n",
      "Epoch 61/100\n",
      "17/17 [==============================] - 0s 4ms/step - loss: 0.3998 - accuracy: 0.8026 - val_loss: 0.5473 - val_accuracy: 0.7706\n",
      "Epoch 62/100\n",
      "17/17 [==============================] - 0s 5ms/step - loss: 0.3981 - accuracy: 0.8082 - val_loss: 0.5517 - val_accuracy: 0.7576\n",
      "Epoch 63/100\n",
      "17/17 [==============================] - 0s 4ms/step - loss: 0.3984 - accuracy: 0.7970 - val_loss: 0.5522 - val_accuracy: 0.7662\n",
      "Epoch 64/100\n",
      "17/17 [==============================] - 0s 4ms/step - loss: 0.3983 - accuracy: 0.8119 - val_loss: 0.5475 - val_accuracy: 0.7576\n",
      "Epoch 65/100\n",
      "17/17 [==============================] - 0s 4ms/step - loss: 0.3979 - accuracy: 0.8082 - val_loss: 0.5638 - val_accuracy: 0.7489\n",
      "Epoch 66/100\n",
      "17/17 [==============================] - 0s 5ms/step - loss: 0.3987 - accuracy: 0.8119 - val_loss: 0.5511 - val_accuracy: 0.7619\n",
      "Epoch 67/100\n",
      "17/17 [==============================] - 0s 4ms/step - loss: 0.4006 - accuracy: 0.8026 - val_loss: 0.5585 - val_accuracy: 0.7576\n",
      "Epoch 68/100\n",
      "17/17 [==============================] - 0s 4ms/step - loss: 0.3953 - accuracy: 0.8156 - val_loss: 0.5550 - val_accuracy: 0.7619\n",
      "Epoch 69/100\n",
      "17/17 [==============================] - 0s 4ms/step - loss: 0.3966 - accuracy: 0.8082 - val_loss: 0.5627 - val_accuracy: 0.7576\n",
      "Epoch 70/100\n",
      "17/17 [==============================] - 0s 4ms/step - loss: 0.3991 - accuracy: 0.8045 - val_loss: 0.5568 - val_accuracy: 0.7619\n",
      "Epoch 71/100\n",
      "17/17 [==============================] - 0s 5ms/step - loss: 0.3963 - accuracy: 0.8138 - val_loss: 0.5514 - val_accuracy: 0.7619\n",
      "Epoch 72/100\n",
      "17/17 [==============================] - 0s 4ms/step - loss: 0.3961 - accuracy: 0.8156 - val_loss: 0.5536 - val_accuracy: 0.7662\n",
      "Epoch 73/100\n",
      "17/17 [==============================] - 0s 4ms/step - loss: 0.3942 - accuracy: 0.8119 - val_loss: 0.5653 - val_accuracy: 0.7662\n",
      "Epoch 74/100\n",
      "17/17 [==============================] - 0s 4ms/step - loss: 0.3960 - accuracy: 0.8101 - val_loss: 0.5638 - val_accuracy: 0.7619\n",
      "Epoch 75/100\n",
      "17/17 [==============================] - 0s 4ms/step - loss: 0.3946 - accuracy: 0.8138 - val_loss: 0.5584 - val_accuracy: 0.7532\n",
      "Epoch 76/100\n",
      "17/17 [==============================] - 0s 4ms/step - loss: 0.3990 - accuracy: 0.8156 - val_loss: 0.5611 - val_accuracy: 0.7576\n",
      "Epoch 77/100\n",
      "17/17 [==============================] - 0s 4ms/step - loss: 0.3958 - accuracy: 0.8082 - val_loss: 0.5685 - val_accuracy: 0.7576\n",
      "Epoch 78/100\n",
      "17/17 [==============================] - 0s 4ms/step - loss: 0.3941 - accuracy: 0.8138 - val_loss: 0.5620 - val_accuracy: 0.7576\n",
      "Epoch 79/100\n",
      "17/17 [==============================] - 0s 5ms/step - loss: 0.3984 - accuracy: 0.8101 - val_loss: 0.5549 - val_accuracy: 0.7619\n",
      "Epoch 80/100\n",
      "17/17 [==============================] - 0s 4ms/step - loss: 0.4011 - accuracy: 0.8212 - val_loss: 0.5655 - val_accuracy: 0.7532\n",
      "Epoch 81/100\n",
      "17/17 [==============================] - 0s 4ms/step - loss: 0.4018 - accuracy: 0.8063 - val_loss: 0.5651 - val_accuracy: 0.7576\n",
      "Epoch 82/100\n",
      "17/17 [==============================] - 0s 5ms/step - loss: 0.3965 - accuracy: 0.8268 - val_loss: 0.5643 - val_accuracy: 0.7532\n",
      "Epoch 83/100\n",
      "17/17 [==============================] - 0s 4ms/step - loss: 0.3907 - accuracy: 0.8138 - val_loss: 0.5591 - val_accuracy: 0.7446\n",
      "Epoch 84/100\n",
      "17/17 [==============================] - 0s 4ms/step - loss: 0.3920 - accuracy: 0.8175 - val_loss: 0.5667 - val_accuracy: 0.7532\n",
      "Epoch 85/100\n",
      "17/17 [==============================] - 0s 4ms/step - loss: 0.3916 - accuracy: 0.8194 - val_loss: 0.5553 - val_accuracy: 0.7619\n",
      "Epoch 86/100\n",
      "17/17 [==============================] - 0s 4ms/step - loss: 0.3936 - accuracy: 0.8194 - val_loss: 0.5598 - val_accuracy: 0.7532\n",
      "Epoch 87/100\n",
      "17/17 [==============================] - 0s 4ms/step - loss: 0.3938 - accuracy: 0.8156 - val_loss: 0.5676 - val_accuracy: 0.7489\n",
      "Epoch 88/100\n",
      "17/17 [==============================] - 0s 4ms/step - loss: 0.3890 - accuracy: 0.8250 - val_loss: 0.5661 - val_accuracy: 0.7576\n",
      "Epoch 89/100\n",
      "17/17 [==============================] - 0s 6ms/step - loss: 0.3906 - accuracy: 0.8063 - val_loss: 0.5673 - val_accuracy: 0.7403\n",
      "Epoch 90/100\n",
      "17/17 [==============================] - 0s 4ms/step - loss: 0.3876 - accuracy: 0.8194 - val_loss: 0.5694 - val_accuracy: 0.7403\n",
      "Epoch 91/100\n",
      "17/17 [==============================] - 0s 4ms/step - loss: 0.3911 - accuracy: 0.8119 - val_loss: 0.5708 - val_accuracy: 0.7532\n",
      "Epoch 92/100\n",
      "17/17 [==============================] - 0s 4ms/step - loss: 0.3893 - accuracy: 0.8212 - val_loss: 0.5728 - val_accuracy: 0.7359\n",
      "Epoch 93/100\n",
      "17/17 [==============================] - 0s 4ms/step - loss: 0.3913 - accuracy: 0.8194 - val_loss: 0.5651 - val_accuracy: 0.7532\n",
      "Epoch 94/100\n",
      "17/17 [==============================] - 0s 4ms/step - loss: 0.3913 - accuracy: 0.8156 - val_loss: 0.5644 - val_accuracy: 0.7489\n",
      "Epoch 95/100\n",
      "17/17 [==============================] - 0s 4ms/step - loss: 0.3910 - accuracy: 0.8212 - val_loss: 0.5723 - val_accuracy: 0.7403\n",
      "Epoch 96/100\n",
      "17/17 [==============================] - 0s 5ms/step - loss: 0.3983 - accuracy: 0.8175 - val_loss: 0.5704 - val_accuracy: 0.7446\n",
      "Epoch 97/100\n",
      "17/17 [==============================] - 0s 3ms/step - loss: 0.3909 - accuracy: 0.8194 - val_loss: 0.5686 - val_accuracy: 0.7446\n",
      "Epoch 98/100\n",
      "17/17 [==============================] - 0s 4ms/step - loss: 0.3904 - accuracy: 0.8194 - val_loss: 0.5745 - val_accuracy: 0.7446\n",
      "Epoch 99/100\n",
      "17/17 [==============================] - 0s 4ms/step - loss: 0.3916 - accuracy: 0.8156 - val_loss: 0.5714 - val_accuracy: 0.7489\n",
      "Epoch 100/100\n",
      "17/17 [==============================] - 0s 4ms/step - loss: 0.3908 - accuracy: 0.8175 - val_loss: 0.5691 - val_accuracy: 0.7446\n"
     ]
    }
   ],
   "source": [
    "# Set random seed\n",
    "tf.random.set_seed(42)\n",
    "\n",
    "scaler = StandardScaler()\n",
    "X_train = scaler.fit_transform(X_train)\n",
    "X_test = scaler.transform(X_test)\n",
    "\n",
    "normalize = tf.keras.layers.Normalization()\n",
    "normalize.adapt(X_train)\n",
    "\n",
    "model = tf.keras.Sequential([\n",
    "  tf.keras.layers.Dense(8, activation=\"elu\"), \n",
    "    #tf.keras.layers.Dropout(0.5),\n",
    "    tf.keras.layers.Dense(1, activation=\"sigmoid\") \n",
    "])\n",
    "\n",
    "model.compile(loss=tf.keras.losses.binary_crossentropy,\n",
    "                optimizer=tf.keras.optimizers.Adam(learning_rate=0.01),\n",
    "                  metrics=['accuracy'])\n",
    "\n",
    "# Fit the model\n",
    "#class_weight = {0: 0.2, 1: 0.8}\n",
    "history = model.fit(X_train, y_train, epochs=100,  validation_data=(X_test, y_test))"
   ]
  },
  {
   "cell_type": "code",
   "execution_count": 249,
   "id": "782f6fcc-d96d-44e4-a15a-971bc78e225a",
   "metadata": {},
   "outputs": [],
   "source": [
    "acc = history.history"
   ]
  },
  {
   "cell_type": "code",
   "execution_count": 250,
   "id": "380fcf8a-d1d4-4bb6-859d-ee07711096fe",
   "metadata": {},
   "outputs": [
    {
     "data": {
      "text/plain": [
       "[<matplotlib.lines.Line2D at 0x13142bdf0d0>]"
      ]
     },
     "execution_count": 250,
     "metadata": {},
     "output_type": "execute_result"
    },
    {
     "data": {
      "image/png": "[encoded data removed]",
      "text/plain": [
       "<Figure size 640x480 with 1 Axes>"
      ]
     },
     "metadata": {},
     "output_type": "display_data"
    }
   ],
   "source": [
    "plt.plot(acc['accuracy'])"
   ]
  },
  {
   "cell_type": "code",
   "execution_count": 251,
   "id": "1003ba5d-fbf2-4b33-b99c-39b671d32ed3",
   "metadata": {},
   "outputs": [
    {
     "name": "stdout",
     "output_type": "stream",
     "text": [
      "8/8 [==============================] - 0s 2ms/step - loss: 0.5691 - accuracy: 0.7446\n",
      "Model loss on test set: 0.5691404938697815\n",
      "Model accuracy on test set: 74.46%\n"
     ]
    }
   ],
   "source": [
    "loss, accuracy = model.evaluate(X_test, y_test)\n",
    "print(f\"Model loss on test set: {loss}\")\n",
    "print(f\"Model accuracy on test set: {(accuracy*100):.2f}%\")"
   ]
  },
  {
   "cell_type": "code",
   "execution_count": 252,
   "id": "76f22b7c-e46b-4fc8-a3eb-8f126bf8bb24",
   "metadata": {},
   "outputs": [
    {
     "name": "stdout",
     "output_type": "stream",
     "text": [
      "8/8 [==============================] - 0s 1ms/step\n"
     ]
    },
    {
     "data": {
      "text/plain": [
       "array([[120,  31],\n",
       "       [ 28,  52]], dtype=int64)"
      ]
     },
     "execution_count": 252,
     "metadata": {},
     "output_type": "execute_result"
    }
   ],
   "source": [
    "# Create a confusion matrix\n",
    "from sklearn.metrics import confusion_matrix\n",
    "\n",
    "# Make predictions\n",
    "y_preds = model.predict(X_test)\n",
    "\n",
    "# Create confusion matrix\n",
    "confusion_matrix(y_test, tf.round(y_preds))"
   ]
  },
  {
   "cell_type": "code",
   "execution_count": 253,
   "id": "fd0c70c1-80e5-444a-8291-73f23d4c6b2f",
   "metadata": {},
   "outputs": [
    {
     "data": {
      "image/png": "[encoded data removed]",
      "text/plain": [
       "<Figure size 1000x1000 with 2 Axes>"
      ]
     },
     "metadata": {},
     "output_type": "display_data"
    }
   ],
   "source": [
    "import itertools\n",
    "\n",
    "figsize = (10, 10)\n",
    "\n",
    "# Create the confusion matrix\n",
    "cm = confusion_matrix(y_test, tf.round(y_preds))\n",
    "cm_norm = cm.astype(\"float\") / cm.sum(axis=1)[:, np.newaxis] # normalize it\n",
    "n_classes = cm.shape[0]\n",
    "\n",
    "# Let's prettify it\n",
    "fig, ax = plt.subplots(figsize=figsize)\n",
    "# Create a matrix plot\n",
    "cax = ax.matshow(cm, cmap=plt.cm.Blues) # https://matplotlib.org/3.2.0/api/_as_gen/matplotlib.axes.Axes.matshow.html\n",
    "fig.colorbar(cax)\n",
    "\n",
    "# Create classes\n",
    "classes = False\n",
    "\n",
    "if classes:\n",
    "  labels = classes\n",
    "else:\n",
    "  labels = np.arange(cm.shape[0])\n",
    "\n",
    "# Label the axes\n",
    "ax.set(title=\"Confusion Matrix\",\n",
    "       xlabel=\"Predicted label\",\n",
    "       ylabel=\"True label\",\n",
    "       xticks=np.arange(n_classes),\n",
    "       yticks=np.arange(n_classes),\n",
    "       xticklabels=labels,\n",
    "       yticklabels=labels)\n",
    "\n",
    "# Set x-axis labels to bottom\n",
    "ax.xaxis.set_label_position(\"bottom\")\n",
    "ax.xaxis.tick_bottom()\n",
    "\n",
    "# Adjust label size\n",
    "ax.xaxis.label.set_size(20)\n",
    "ax.yaxis.label.set_size(20)\n",
    "ax.title.set_size(20)\n",
    "\n",
    "# Set threshold for different colors\n",
    "threshold = (cm.max() + cm.min()) / 2.\n",
    "\n",
    "# Plot the text on each cell\n",
    "for i, j in itertools.product(range(cm.shape[0]), range(cm.shape[1])):\n",
    "  plt.text(j, i, f\"{cm[i, j]} ({cm_norm[i, j]*100:.1f}%)\",\n",
    "           horizontalalignment=\"center\",\n",
    "           color=\"white\" if cm[i, j] > threshold else \"black\",\n",
    "           size=15)"
   ]
  },
  {
   "cell_type": "code",
   "execution_count": null,
   "id": "4641f18b-2015-4a9a-a6d0-bb786aa2314a",
   "metadata": {},
   "outputs": [],
   "source": []
  },
  {
   "cell_type": "code",
   "execution_count": null,
   "id": "2c488392-7c7d-4664-87c3-8ff722d0ce47",
   "metadata": {},
   "outputs": [],
   "source": []
  },
  {
   "cell_type": "code",
   "execution_count": null,
   "id": "0aef63ff-6ada-41fe-be37-019f5a3c13d1",
   "metadata": {},
   "outputs": [],
   "source": []
  },
  {
   "cell_type": "code",
   "execution_count": null,
   "id": "c5411c83-4580-4096-9697-520decfea55d",
   "metadata": {},
   "outputs": [],
   "source": []
  },
  {
   "cell_type": "code",
   "execution_count": null,
   "id": "22ad9cfd-0204-4f9f-96a1-0cd2b0acbd82",
   "metadata": {},
   "outputs": [],
   "source": []
  },
  {
   "cell_type": "code",
   "execution_count": null,
   "id": "034b51c5-7928-4bcd-941e-f20c30bac01b",
   "metadata": {},
   "outputs": [],
   "source": []
  },
  {
   "cell_type": "code",
   "execution_count": null,
   "id": "ebeaaae3-b153-4e18-91ac-fa55f903285d",
   "metadata": {},
   "outputs": [],
   "source": []
  },
  {
   "cell_type": "code",
   "execution_count": null,
   "id": "b51b0557-d5d4-4018-a7db-8292f2985b94",
   "metadata": {},
   "outputs": [],
   "source": []
  },
  {
   "cell_type": "code",
   "execution_count": null,
   "id": "a387e49e-89ca-4493-b410-31d997d77ee6",
   "metadata": {},
   "outputs": [],
   "source": []
  },
  {
   "cell_type": "code",
   "execution_count": null,
   "id": "da3f5a0f-0064-4d71-b6af-6fcadb419810",
   "metadata": {},
   "outputs": [],
   "source": []
  },
  {
   "cell_type": "code",
   "execution_count": null,
   "id": "2fb22942-8b10-45e5-89b9-db6c45af04c4",
   "metadata": {},
   "outputs": [],
   "source": []
  },
  {
   "cell_type": "code",
   "execution_count": null,
   "id": "2580072a-be88-4806-8bb9-9c5106b00449",
   "metadata": {},
   "outputs": [],
   "source": []
  },
  {
   "cell_type": "code",
   "execution_count": null,
   "id": "60e3069f-d207-4cf8-b6fe-6ec00a21f777",
   "metadata": {},
   "outputs": [],
   "source": []
  },
  {
   "cell_type": "code",
   "execution_count": null,
   "id": "188e7254-51fa-4873-8628-906fece3bf54",
   "metadata": {},
   "outputs": [],
   "source": []
  },
  {
   "cell_type": "code",
   "execution_count": null,
   "id": "741a7e9a-6e77-44ed-9583-81247ca2164e",
   "metadata": {},
   "outputs": [],
   "source": []
  },
  {
   "cell_type": "code",
   "execution_count": null,
   "id": "d71d02c7-23e8-4f14-bdf2-7a24abcdc57c",
   "metadata": {},
   "outputs": [],
   "source": []
  },
  {
   "cell_type": "code",
   "execution_count": null,
   "id": "5f2dcc87-15e5-49b9-bbfd-bcd6fb03f1ed",
   "metadata": {},
   "outputs": [],
   "source": []
  },
  {
   "cell_type": "code",
   "execution_count": null,
   "id": "4287737c-2aa1-4798-b960-b3ed56be80a8",
   "metadata": {},
   "outputs": [],
   "source": []
  },
  {
   "cell_type": "code",
   "execution_count": null,
   "id": "f4da5432-6c1d-4047-a869-5f8d7360cba5",
   "metadata": {},
   "outputs": [],
   "source": []
  },
  {
   "cell_type": "code",
   "execution_count": null,
   "id": "736adc30-99ed-4906-b2fe-42dff6d5929a",
   "metadata": {},
   "outputs": [],
   "source": []
  },
  {
   "cell_type": "code",
   "execution_count": null,
   "id": "eaa34f5e-0a62-48d4-b143-afc6825de5da",
   "metadata": {},
   "outputs": [],
   "source": []
  },
  {
   "cell_type": "code",
   "execution_count": null,
   "id": "6ff80a88-10a0-4425-a486-0f14125342d6",
   "metadata": {},
   "outputs": [],
   "source": []
  },
  {
   "cell_type": "code",
   "execution_count": null,
   "id": "59594cdf-3e19-4b4b-940e-8f2253681217",
   "metadata": {},
   "outputs": [],
   "source": []
  },
  {
   "cell_type": "code",
   "execution_count": null,
   "id": "7edb8707-6efd-4edc-8f65-ad2b237f4cac",
   "metadata": {},
   "outputs": [],
   "source": []
  },
  {
   "cell_type": "code",
   "execution_count": null,
   "id": "232c1929-6691-4bec-b84b-1224b117d865",
   "metadata": {},
   "outputs": [],
   "source": []
  }
 ],
 "metadata": {
  "kernelspec": {
   "display_name": "Python 3 (ipykernel)",
   "language": "python",
   "name": "python3"
  },
  "language_info": {
   "codemirror_mode": {
    "name": "ipython",
    "version": 3
   },
   "file_extension": ".py",
   "mimetype": "text/x-python",
   "name": "python",
   "nbconvert_exporter": "python",
   "pygments_lexer": "ipython3",
   "version": "3.11.5"
  }
 },
 "nbformat": 4,
 "nbformat_minor": 5
}
